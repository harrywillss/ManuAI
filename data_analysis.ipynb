{
 "cells": [
  {
   "cell_type": "markdown",
   "id": "1970c017",
   "metadata": {},
   "source": [
    "# Python Notebook with analysis of downloaded audio data"
   ]
  }
 ],
 "metadata": {
  "language_info": {
   "name": "python"
  }
 },
 "nbformat": 4,
 "nbformat_minor": 5
}
